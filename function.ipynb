{
 "cells": [
  {
   "cell_type": "code",
   "execution_count": 1,
   "id": "cee72830-7781-44b9-9851-c44ca49dda98",
   "metadata": {},
   "outputs": [],
   "source": [
    "#CALLING A FUNCTION\n",
    "    # define the function \"say_hello\" so it springs \"Hello!\" when called.\n",
    "def say_hello():\n",
    "    print(\"Hello!\")"
   ]
  },
  {
   "cell_type": "code",
   "execution_count": 2,
   "id": "34c895d8-85f7-4dfe-b45f-1be0ac2a9cca",
   "metadata": {},
   "outputs": [
    {
     "name": "stdout",
     "output_type": "stream",
     "text": [
      "Hello!\n"
     ]
    }
   ],
   "source": [
    "# call the function\n",
    "say_hello()"
   ]
  },
  {
   "cell_type": "code",
   "execution_count": 4,
   "id": "eb92729a-a59f-4d0d-a919-0ba8a80a8480",
   "metadata": {},
   "outputs": [
    {
     "name": "stdout",
     "output_type": "stream",
     "text": [
      "Hello World\n"
     ]
    }
   ],
   "source": [
    "#PARAMETERS\n",
    "    #parameters is a value tath we send to the function that we put inside the parentheses\n",
    "def say_something(something):\n",
    "    print(something)\n",
    "#call the function\n",
    "say_something(\"Hello World\")"
   ]
  },
  {
   "cell_type": "code",
   "execution_count": 6,
   "id": "36efb8ed-92bb-41e0-846b-e89310af0b91",
   "metadata": {},
   "outputs": [
    {
     "name": "stdout",
     "output_type": "stream",
     "text": [
      "Hi, my name is Jane. I'm learning Python!\n"
     ]
    }
   ],
   "source": [
    "Jane_says = \"Hi, my name is Jane. I'm learning Python!\"\n",
    "say_something(Jane_says)"
   ]
  },
  {
   "cell_type": "code",
   "execution_count": 7,
   "id": "91b9c9a7-7d0a-422c-a82a-14be8b2ccc91",
   "metadata": {},
   "outputs": [],
   "source": [
    "# PANDAS MAP() FUNCTION\n",
    "    # A list of my grades. \n",
    "my_grades = [\"B\", \"C\", \"B\", \"D\"]\n"
   ]
  },
  {
   "cell_type": "code",
   "execution_count": 10,
   "id": "6312a0f7-7d44-4f05-9fe3-6de80aae6e8c",
   "metadata": {},
   "outputs": [
    {
     "data": {
      "text/plain": [
       "0    B\n",
       "1    C\n",
       "2    B\n",
       "3    D\n",
       "dtype: object"
      ]
     },
     "execution_count": 10,
     "metadata": {},
     "output_type": "execute_result"
    }
   ],
   "source": [
    "# PANDAS MAP() FUNCTION\n",
    "    #import pandas\n",
    "import pandas as pd\n",
    "    #covert the my_grades to a Series\n",
    "my_grades = pd.Series(my_grades)\n",
    "my_grades"
   ]
  },
  {
   "cell_type": "code",
   "execution_count": 11,
   "id": "ce356510-154d-4668-be2b-6f8b60d2e9dc",
   "metadata": {},
   "outputs": [
    {
     "data": {
      "text/plain": [
       "0    A\n",
       "1    B\n",
       "2    A\n",
       "3    C\n",
       "dtype: object"
      ]
     },
     "execution_count": 11,
     "metadata": {},
     "output_type": "execute_result"
    }
   ],
   "source": [
    "# PANDAS MAP() FUNCTION - CHANGES\n",
    "my_grades.map({\"B\": 'A', \"C\": \"B\", \"D\": \"C\"})"
   ]
  },
  {
   "cell_type": "code",
   "execution_count": 12,
   "id": "7b721c91-0ccb-4a76-b486-085bdce83f2d",
   "metadata": {},
   "outputs": [
    {
     "name": "stdout",
     "output_type": "stream",
     "text": [
      "92\n",
      "85\n",
      "87\n",
      "98\n"
     ]
    }
   ],
   "source": [
    "# PYTHON FORMAT() FUNCTION\n",
    "    # format() function is used to format a value to a specific format, such as one or tow decimal places, or adding a thousands separator.\n",
    "    # Using the format() function.\n",
    "my_grades = [92.34, 84.56, 86.78, 98.32]\n",
    "\n",
    "for grade in my_grades:\n",
    "    print(\"{:.0f}\".format(grade))"
   ]
  },
  {
   "cell_type": "code",
   "execution_count": 14,
   "id": "5e1bd022-93a0-4bef-a24f-e81186cf4a05",
   "metadata": {},
   "outputs": [
    {
     "data": {
      "text/plain": [
       "0    92.34\n",
       "1    84.56\n",
       "2    86.78\n",
       "3    78.32\n",
       "dtype: float64"
      ]
     },
     "execution_count": 14,
     "metadata": {},
     "output_type": "execute_result"
    }
   ],
   "source": [
    "#CHAINING THE MAP() & FORMAT FUNCTIONS\n",
    "    #covert the numerical grades to a series\n",
    "my_grades = pd.Series([92.34, 84.56, 86.78, 78.32])\n",
    "my_grades"
   ]
  },
  {
   "cell_type": "code",
   "execution_count": 16,
   "id": "8ca07081-e0ce-43b4-938f-be8effc335d9",
   "metadata": {},
   "outputs": [
    {
     "data": {
      "text/plain": [
       "0    92\n",
       "1    85\n",
       "2    87\n",
       "3    78\n",
       "dtype: object"
      ]
     },
     "execution_count": 16,
     "metadata": {},
     "output_type": "execute_result"
    }
   ],
   "source": [
    "#CHAINING THE MAP() & FORMAT FUNCTIONS\n",
    "    #format the grades to the nearest whole number percent.\n",
    "my_grades.map(\"{:.0f}\".format)    \n"
   ]
  },
  {
   "cell_type": "code",
   "execution_count": null,
   "id": "ea1137ca-21e2-4c6d-bf5d-9b1f77fdaa2d",
   "metadata": {},
   "outputs": [],
   "source": []
  }
 ],
 "metadata": {
  "kernelspec": {
   "display_name": "PythonData",
   "language": "python",
   "name": "pythondata"
  },
  "language_info": {
   "codemirror_mode": {
    "name": "ipython",
    "version": 3
   },
   "file_extension": ".py",
   "mimetype": "text/x-python",
   "name": "python",
   "nbconvert_exporter": "python",
   "pygments_lexer": "ipython3",
   "version": "3.7.10"
  }
 },
 "nbformat": 4,
 "nbformat_minor": 5
}

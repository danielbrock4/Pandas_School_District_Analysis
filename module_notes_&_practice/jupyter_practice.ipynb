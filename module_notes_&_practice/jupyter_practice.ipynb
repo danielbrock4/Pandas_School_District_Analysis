{
 "cells": [
  {
   "cell_type": "code",
   "execution_count": 1,
   "id": "1f370a4e-6e34-4739-855d-c8bc0ff2b4fc",
   "metadata": {},
   "outputs": [],
   "source": [
    "#OBJECT ORIENTED PROGRAMMING\n",
    "    #Object-oriented programming (OOP) is a way of organizing information in programming. It is based on the concepts of classes and objects. \n",
    "    #Imagine a mold for a toy car at a toy factory. The mold can be used to create identical toy cars, but each car is a separate object. \n",
    "    #If a child places a sticker on one particular car, for example, only that car will have the sticker. In object-oriented programming, the class is like the mold, \n",
    "    #and the object is like a particular toy car."
   ]
  },
  {
   "cell_type": "code",
   "execution_count": 2,
   "id": "56d1f2ad-e5e5-4286-8127-d649b39d71d7",
   "metadata": {},
   "outputs": [],
   "source": [
    "import pandas as pd"
   ]
  },
  {
   "cell_type": "code",
   "execution_count": 3,
   "id": "576f5b85-8d0f-4bc5-b6c7-88c8c6ea00be",
   "metadata": {},
   "outputs": [],
   "source": [
    "#OBJECT ORIENTED PROGRAMMING\n",
    "    # To create a class called Cat, let's try the following code.\n",
    "class Cat:\n",
    "    def __init__(self, name):\n",
    "        self.name = name\n",
    "# class is used to create a class   \n",
    "# __init__ method is a special method called a \"class constructor  that Python calls every time a new instance of the class is created\n",
    "# This method takes two arguments: self and name. The self argument refers to a specific Cat object that is created when this method is called. \n",
    "# The second argument, name, will be specified each time a new Cat object is created. Let's look at how to do this.\n"
   ]
  },
  {
   "cell_type": "code",
   "execution_count": 4,
   "id": "718bcccd-3155-4709-9e4c-28731de5054f",
   "metadata": {},
   "outputs": [
    {
     "name": "stdout",
     "output_type": "stream",
     "text": [
      "Felix\n"
     ]
    }
   ],
   "source": [
    "first_cat = Cat('Felix')\n",
    "print(first_cat.name)"
   ]
  },
  {
   "cell_type": "code",
   "execution_count": 5,
   "id": "fa149ee2-ff63-462b-abec-3e291f4d7159",
   "metadata": {},
   "outputs": [
    {
     "name": "stdout",
     "output_type": "stream",
     "text": [
      "Felix\n",
      "Garfield\n"
     ]
    }
   ],
   "source": [
    "second_cat = Cat(\"Garfield\")\n",
    "print(first_cat.name)\n",
    "print(second_cat.name)"
   ]
  },
  {
   "cell_type": "code",
   "execution_count": 6,
   "id": "20399018-808f-4828-abe9-bb9881b209d1",
   "metadata": {},
   "outputs": [],
   "source": [
    "class Dog:\n",
    "    def __init__(self, name, color, sound):\n",
    "        self.name = name\n",
    "        self.color = color\n",
    "        self.sound = sound\n",
    " #function associated with an object. This means that an ovject crated from this dog calls can now perfomr and action through the \"bark\" method   \n",
    "    def bark(self):\n",
    "        return self.sound + ' ' + self.sound"
   ]
  },
  {
   "cell_type": "code",
   "execution_count": 8,
   "id": "605a8024-6e50-4a13-a200-84ae2c4729ae",
   "metadata": {},
   "outputs": [
    {
     "name": "stdout",
     "output_type": "stream",
     "text": [
      "Fido\n",
      "Brown\n"
     ]
    },
    {
     "data": {
      "text/plain": [
       "'woof woof'"
      ]
     },
     "execution_count": 8,
     "metadata": {},
     "output_type": "execute_result"
    }
   ],
   "source": [
    "first_dog = Dog('Fido', 'Brown', 'woof')\n",
    "print(first_dog.name)\n",
    "print(first_dog.color)\n",
    "first_dog.bark()"
   ]
  },
  {
   "cell_type": "code",
   "execution_count": 9,
   "id": "d5c1fe00-719c-4d22-bc1d-0172d037840c",
   "metadata": {},
   "outputs": [
    {
     "name": "stdout",
     "output_type": "stream",
     "text": [
      "Lady\n",
      "blonde\n"
     ]
    },
    {
     "data": {
      "text/plain": [
       "'arf! arf!'"
      ]
     },
     "execution_count": 9,
     "metadata": {},
     "output_type": "execute_result"
    }
   ],
   "source": [
    "second_dog = Dog('Lady', 'blonde', 'arf!')\n",
    "print(second_dog.name)\n",
    "print(second_dog.color)\n",
    "second_dog.bark()"
   ]
  },
  {
   "cell_type": "code",
   "execution_count": null,
   "id": "f75889d3-b990-4c4b-9829-2598c4146f7f",
   "metadata": {},
   "outputs": [],
   "source": []
  }
 ],
 "metadata": {
  "kernelspec": {
   "display_name": "PythonData",
   "language": "python",
   "name": "pythondata"
  },
  "language_info": {
   "codemirror_mode": {
    "name": "ipython",
    "version": 3
   },
   "file_extension": ".py",
   "mimetype": "text/x-python",
   "name": "python",
   "nbconvert_exporter": "python",
   "pygments_lexer": "ipython3",
   "version": "3.7.10"
  }
 },
 "nbformat": 4,
 "nbformat_minor": 5
}
